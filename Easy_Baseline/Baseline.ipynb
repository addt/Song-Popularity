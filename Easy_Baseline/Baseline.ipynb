{
 "cells": [
  {
   "cell_type": "code",
   "execution_count": 1,
   "metadata": {},
   "outputs": [
    {
     "name": "stderr",
     "output_type": "stream",
     "text": [
      "Using TensorFlow backend.\n"
     ]
    }
   ],
   "source": [
    "import time\n",
    "import os\n",
    "\n",
    "import IPython.display as ipd\n",
    "from tqdm import tqdm_notebook\n",
    "import numpy as np\n",
    "import pandas as pd\n",
    "import keras\n",
    "from keras.layers import Activation, Dense, Conv1D, Conv2D, MaxPooling1D, Flatten, Reshape\n",
    "import tensorflow as tf\n",
    "\n",
    "import seaborn as sns\n",
    "%matplotlib inline \n",
    "\n",
    "from sklearn.utils import shuffle\n",
    "from sklearn.preprocessing import MultiLabelBinarizer, LabelEncoder, StandardScaler\n",
    "from sklearn.decomposition import PCA\n",
    "from sklearn.linear_model import Ridge, Lasso, ElasticNet, LogisticRegression\n",
    "from sklearn.ensemble import RandomForestClassifier\n",
    "from sklearn.model_selection import train_test_split, cross_val_score\n",
    "\n",
    "import utils"
   ]
  },
  {
   "cell_type": "code",
   "execution_count": 2,
   "metadata": {},
   "outputs": [
    {
     "name": "stdout",
     "output_type": "stream",
     "text": [
      "[name: \"/device:CPU:0\"\n",
      "device_type: \"CPU\"\n",
      "memory_limit: 268435456\n",
      "locality {\n",
      "}\n",
      "incarnation: 2991289856021824869\n",
      ", name: \"/device:GPU:0\"\n",
      "device_type: \"GPU\"\n",
      "memory_limit: 10966958080\n",
      "locality {\n",
      "  bus_id: 1\n",
      "}\n",
      "incarnation: 9771279223605662646\n",
      "physical_device_desc: \"device: 0, name: GeForce GTX 1080 Ti, pci bus id: 0000:02:00.0, compute capability: 6.1\"\n",
      "]\n"
     ]
    }
   ],
   "source": [
    "from tensorflow.python.client import device_lib\n",
    "print(device_lib.list_local_devices())"
   ]
  },
  {
   "cell_type": "code",
   "execution_count": 3,
   "metadata": {},
   "outputs": [
    {
     "name": "stdout",
     "output_type": "stream",
     "text": [
      "/home/sayan/workspace/Song-Popularity/data/fma_small\n"
     ]
    }
   ],
   "source": [
    "AUDIO_DIR = os.environ.get('AUDIO_DIR')\n",
    "print(AUDIO_DIR)"
   ]
  },
  {
   "cell_type": "code",
   "execution_count": 4,
   "metadata": {},
   "outputs": [
    {
     "data": {
      "text/plain": [
       "((106574, 52), (106574, 518), (13129, 249))"
      ]
     },
     "execution_count": 4,
     "metadata": {},
     "output_type": "execute_result"
    }
   ],
   "source": [
    "tracks = utils.load('../data/tracks.csv')\n",
    "features = utils.load('../data/features.csv')\n",
    "echonest = utils.load('../data/echonest.csv')\n",
    "\n",
    "np.testing.assert_array_equal(features.index, tracks.index)\n",
    "assert echonest.index.isin(tracks.index).all()\n",
    "\n",
    "tracks.shape, features.shape, echonest.shape"
   ]
  },
  {
   "cell_type": "code",
   "execution_count": 5,
   "metadata": {
    "collapsed": true
   },
   "outputs": [],
   "source": [
    "# combo_df = pd.read_csv(\"../data/combined_features.csv\") \n",
    "mod_tracks = pd.read_csv(\"../data/mod_tracks.csv\")\n",
    "mod_features = pd.read_csv(\"../data/mod_features.csv\")\n",
    "mod_echonest = pd.read_csv(\"../data/mod_echonest.csv\")"
   ]
  },
  {
   "cell_type": "code",
   "execution_count": 6,
   "metadata": {
    "collapsed": true
   },
   "outputs": [],
   "source": [
    "pca = PCA(n_components=1)\n",
    "mod_tracks[\"popularity_index\"] = pca.fit_transform(mod_tracks[[\"track_listens\",\"track_favorites\"]].as_matrix())"
   ]
  },
  {
   "cell_type": "code",
   "execution_count": 7,
   "metadata": {},
   "outputs": [
    {
     "name": "stdout",
     "output_type": "stream",
     "text": [
      "Not enough Echonest features: (13129, 767)\n"
     ]
    },
    {
     "data": {
      "text/plain": [
       "((8000, 52), (8000, 518))"
      ]
     },
     "execution_count": 7,
     "metadata": {},
     "output_type": "execute_result"
    }
   ],
   "source": [
    "subset = tracks.index[tracks['set', 'subset'] <= 'small']\n",
    "\n",
    "assert subset.isin(tracks.index).all()\n",
    "assert subset.isin(features.index).all()\n",
    "\n",
    "features_all = features.join(echonest, how='inner').sort_index(axis=1)\n",
    "print('Not enough Echonest features: {}'.format(features_all.shape))\n",
    "\n",
    "tracks = tracks.loc[subset]\n",
    "features_all = features.loc[subset]\n",
    "\n",
    "tracks.shape, features_all.shape"
   ]
  },
  {
   "cell_type": "code",
   "execution_count": 8,
   "metadata": {},
   "outputs": [
    {
     "name": "stdout",
     "output_type": "stream",
     "text": [
      "6400 training examples, 800 validation examples, 800 testing examples\n",
      "Top genres (22): ['-', 'E', 'F', 'H', 'I', 'P', 'R', 'a', 'c', 'e', 'i', 'k', 'l', 'm', 'n', 'o', 'p', 'r', 's', 't', 'u', 'x']\n",
      "All genres (114): [1, 2, 6, 10, 12, 15, 16, 17, 18, 21, 22, 25, 26, 27, 30, 31, 32, 33, 36, 38, 41, 42, 45, 46, 47, 49, 53, 58, 64, 66, 70, 71, 76, 77, 79, 81, 83, 85, 86, 88, 89, 90, 92, 94, 98, 100, 101, 102, 103, 107, 109, 111, 113, 117, 118, 125, 130, 167, 171, 172, 174, 177, 180, 181, 182, 183, 184, 185, 186, 214, 224, 232, 236, 240, 247, 250, 267, 286, 296, 297, 314, 337, 359, 360, 361, 362, 400, 401, 404, 439, 440, 456, 468, 491, 495, 502, 504, 514, 524, 538, 539, 542, 580, 602, 619, 695, 741, 763, 808, 811, 1032, 1060, 1193, 1235]\n"
     ]
    }
   ],
   "source": [
    "train = tracks.index[tracks['set', 'split'] == 'training']\n",
    "val = tracks.index[tracks['set', 'split'] == 'validation']\n",
    "test = tracks.index[tracks['set', 'split'] == 'test']\n",
    "\n",
    "print('{} training examples, {} validation examples, {} testing examples'.format(*map(len, [train, val, test])))\n",
    "\n",
    "genres = list(MultiLabelBinarizer().fit(tracks['track', 'genre_top']).classes_)\n",
    "#genres = list(tracks['track', 'genre_top'].unique())\n",
    "print('Top genres ({}): {}'.format(len(genres), genres))\n",
    "genres = list(MultiLabelBinarizer().fit(tracks['track', 'genres_all']).classes_)\n",
    "print('All genres ({}): {}'.format(len(genres), genres))"
   ]
  },
  {
   "cell_type": "code",
   "execution_count": 9,
   "metadata": {},
   "outputs": [
    {
     "name": "stdout",
     "output_type": "stream",
     "text": [
      "count    106574.000000\n",
      "mean       2329.353548\n",
      "std        8028.070647\n",
      "min           0.000000\n",
      "25%         292.000000\n",
      "50%         764.000000\n",
      "75%        2018.000000\n",
      "max      543252.000000\n",
      "Name: track_listens, dtype: float64\n",
      "count     17519.000000\n",
      "mean       7611.599143\n",
      "std       17884.315777\n",
      "min         800.642731\n",
      "25%        1749.650713\n",
      "50%        3381.640331\n",
      "75%        7196.655876\n",
      "max      540924.160149\n",
      "Name: popularity_index, dtype: float64\n"
     ]
    },
    {
     "data": {
      "text/plain": [
       "<matplotlib.axes._subplots.AxesSubplot at 0x7fb3435c19b0>"
      ]
     },
     "execution_count": 9,
     "metadata": {},
     "output_type": "execute_result"
    },
    {
     "data": {
      "image/png": "[encoded data removed]",
      "text/plain": [
       "<matplotlib.figure.Figure at 0x7fb3435c11d0>"
      ]
     },
     "metadata": {},
     "output_type": "display_data"
    }
   ],
   "source": [
    "print(mod_tracks[\"track_listens\"].describe())\n",
    "print(mod_tracks[mod_tracks[\"popularity_index\"] >= 800][\"popularity_index\"].describe())\n",
    "sns.distplot(mod_tracks[mod_tracks[\"track_listens\"] >= 100000][\"track_listens\"])"
   ]
  },
  {
   "cell_type": "code",
   "execution_count": 10,
   "metadata": {},
   "outputs": [
    {
     "name": "stdout",
     "output_type": "stream",
     "text": [
      "[1 0]\n",
      "(8000, 1)\n"
     ]
    }
   ],
   "source": [
    "listens_label = mod_tracks[\"track_listens\"][subset].map(lambda x: 1 if x > 800 else 0)\n",
    "print(listens_label.unique())\n",
    "listens_label = pd.DataFrame(listens_label, index=tracks.index)\n",
    "print(listens_label.shape)"
   ]
  },
  {
   "cell_type": "code",
   "execution_count": 11,
   "metadata": {},
   "outputs": [
    {
     "data": {
      "text/plain": [
       "array([1, 0])"
      ]
     },
     "execution_count": 11,
     "metadata": {},
     "output_type": "execute_result"
    }
   ],
   "source": [
    "listens_label.track_listens.unique()"
   ]
  },
  {
   "cell_type": "code",
   "execution_count": 12,
   "metadata": {},
   "outputs": [
    {
     "data": {
      "text/plain": [
       "(2, 1321967)"
      ]
     },
     "execution_count": 12,
     "metadata": {},
     "output_type": "execute_result"
    }
   ],
   "source": [
    "# Just be sure that everything is fine. Multiprocessing is tricky to debug.\n",
    "utils.FfmpegLoader().load(utils.get_audio_path(AUDIO_DIR, 2))\n",
    "SampleLoader = utils.build_sample_loader(AUDIO_DIR, listens_label, utils.FfmpegLoader())\n",
    "SampleLoader(train, batch_size=2).__next__()[0].shape"
   ]
  },
  {
   "cell_type": "code",
   "execution_count": 13,
   "metadata": {
    "collapsed": true
   },
   "outputs": [],
   "source": [
    "# Keras parameters.\n",
    "# NB_WORKER = len(os.sched_getaffinity(0))  # number of usables CPUs\n",
    "# NB_WORKER = 8 # len(os.sched_getaffinity(0))  # number of usables CPUs\n",
    "params = {'pickle_safe': False, 'max_q_size': 10}"
   ]
  },
  {
   "cell_type": "code",
   "execution_count": 14,
   "metadata": {
    "collapsed": true
   },
   "outputs": [],
   "source": [
    "#train = train[:10]"
   ]
  },
  {
   "cell_type": "code",
   "execution_count": null,
   "metadata": {
    "collapsed": true
   },
   "outputs": [],
   "source": [
    "\n",
    "########################################\n",
    "## define the model structure\n",
    "########################################\n",
    "embedding_layer = Embedding(nb_words,\n",
    "        EMBEDDING_DIM,\n",
    "        weights=[embedding_matrix],\n",
    "        input_length=MAX_SEQUENCE_LENGTH,\n",
    "        trainable=False)\n",
    "lstm_layer = LSTM(num_lstm, dropout=rate_drop_lstm, recurrent_dropout=rate_drop_lstm)\n",
    "\n",
    "sequence_1_input = Input(shape=(MAX_SEQUENCE_LENGTH,), dtype='int32')\n",
    "embedded_sequences_1 = embedding_layer(sequence_1_input)\n",
    "x1 = lstm_layer(embedded_sequences_1)\n",
    "\n",
    "sequence_2_input = Input(shape=(MAX_SEQUENCE_LENGTH,), dtype='int32')\n",
    "embedded_sequences_2 = embedding_layer(sequence_2_input)\n",
    "y1 = lstm_layer(embedded_sequences_2)\n",
    "\n",
    "merged = concatenate([x1, y1])\n",
    "merged = Dropout(rate_drop_dense)(merged)\n",
    "merged = BatchNormalization()(merged)\n",
    "\n",
    "merged = Dense(num_dense, activation=act)(merged)\n",
    "merged = Dropout(rate_drop_dense)(merged)\n",
    "merged = BatchNormalization()(merged)\n",
    "\n",
    "preds = Dense(1, activation='sigmoid')(merged)\n",
    "\n",
    "\n",
    "########################################\n",
    "## add class weight\n",
    "########################################\n",
    "if re_weight:\n",
    "    class_weight = {0: 1.309028344, 1: 0.472001959}\n",
    "else:\n",
    "    class_weight = None\n",
    "\n",
    "########################################\n",
    "## train the model\n",
    "########################################\n",
    "model = Model(inputs=[sequence_1_input, sequence_2_input], \\\n",
    "        outputs=preds)\n",
    "model.compile(loss='binary_crossentropy',\n",
    "        optimizer='nadam',\n",
    "        metrics=['acc'])\n",
    "model.summary()\n",
    "print(STAMP)\n",
    "\n",
    "early_stopping =EarlyStopping(monitor='val_loss', patience=3)\n",
    "bst_model_path = STAMP + '.h5'\n",
    "model_checkpoint = ModelCheckpoint(bst_model_path, save_best_only=True, save_weights_only=True)\n",
    "\n",
    "hist = model.fit([data_1_train, data_2_train], labels_train, \\\n",
    "        validation_data=([data_1_val, data_2_val], labels_val, weight_val), \\\n",
    "        epochs=200, batch_size=2048, shuffle=True, \\\n",
    "        class_weight=class_weight, callbacks=[early_stopping, model_checkpoint])"
   ]
  },
  {
   "cell_type": "code",
   "execution_count": 26,
   "metadata": {},
   "outputs": [
    {
     "name": "stdout",
     "output_type": "stream",
     "text": [
      "Dimensionality: (59953,)\n",
      "_________________________________________________________________\n",
      "Layer (type)                 Output Shape              Param #   \n",
      "=================================================================\n",
      "dense_1 (Dense)              (None, 1000)              59954000  \n",
      "_________________________________________________________________\n",
      "activation_1 (Activation)    (None, 1000)              0         \n",
      "_________________________________________________________________\n",
      "dense_2 (Dense)              (None, 100)               100100    \n",
      "_________________________________________________________________\n",
      "activation_2 (Activation)    (None, 100)               0         \n",
      "_________________________________________________________________\n",
      "dense_3 (Dense)              (None, 1)                 101       \n",
      "_________________________________________________________________\n",
      "activation_3 (Activation)    (None, 1)                 0         \n",
      "=================================================================\n",
      "Total params: 60,054,201\n",
      "Trainable params: 60,054,201\n",
      "Non-trainable params: 0\n",
      "_________________________________________________________________\n",
      "Epoch 1/5\n",
      " 301/6400 [>.............................] - ETA: 20:24 - loss: 11.0167 - acc: 0.309098567\n",
      " 369/6400 [>.............................] - ETA: 20:10 - loss: 11.0171 - acc: 0.308998565\n",
      " 711/6400 [==>...........................] - ETA: 19:01 - loss: 11.0319 - acc: 0.308055783\n",
      " 815/6400 [==>...........................] - ETA: 18:40 - loss: 11.1303 - acc: 0.301854576\n",
      "2093/6400 [========>.....................] - ETA: 14:25 - loss: 11.0447 - acc: 0.307298569\n",
      "2135/6400 [=========>....................] - ETA: 14:16 - loss: 11.0439 - acc: 0.3073133297\n",
      "2433/6400 [==========>...................] - ETA: 13:16 - loss: 11.1197 - acc: 0.302599134\n",
      "3002/6400 [=============>................] - ETA: 11:22 - loss: 11.1416 - acc: 0.3011108925\n",
      "3153/6400 [=============>................] - ETA: 10:51 - loss: 11.1946 - acc: 0.297854578\n",
      "4021/6400 [=================>............] - ETA: 7:57 - loss: 11.2045 - acc: 0.297217637\n",
      "4833/6400 [=====================>........] - ETA: 5:14 - loss: 11.2385 - acc: 0.295117634\n",
      "4920/6400 [======================>.......] - ETA: 4:57 - loss: 11.2569 - acc: 0.293917631\n",
      "5860/6400 [==========================>...] - ETA: 1:48 - loss: 11.2712 - acc: 0.293017635\n",
      "6136/6400 [===========================>..] - ETA: 53s - loss: 11.2865 - acc: 0.292017636\n",
      "6400/6400 [==============================] - 1285s 201ms/step - loss: 11.2892 - acc: 0.2919\n",
      "Epoch 2/5\n",
      "  88/6400 [..............................] - ETA: 21:10 - loss: 11.4133 - acc: 0.284117636\n",
      " 307/6400 [>.............................] - ETA: 20:23 - loss: 10.9052 - acc: 0.316098565\n",
      " 495/6400 [=>............................] - ETA: 19:45 - loss: 11.0147 - acc: 0.309198567\n",
      " 573/6400 [=>............................] - ETA: 19:28 - loss: 11.0456 - acc: 0.3072133297\n",
      " 647/6400 [==>...........................] - ETA: 19:13 - loss: 11.0882 - acc: 0.304598569\n",
      " 668/6400 [==>...........................] - ETA: 19:08 - loss: 11.1931 - acc: 0.297917637\n",
      "2975/6400 [============>.................] - ETA: 11:28 - loss: 11.2856 - acc: 0.292154578\n",
      "3076/6400 [=============>................] - ETA: 11:07 - loss: 11.2778 - acc: 0.292699134\n",
      "3129/6400 [=============>................] - ETA: 10:57 - loss: 11.2753 - acc: 0.292717634\n",
      "3907/6400 [=================>............] - ETA: 8:21 - loss: 11.2907 - acc: 0.291854576\n",
      "4129/6400 [==================>...........] - ETA: 7:36 - loss: 11.2898 - acc: 0.2918108925\n",
      "4590/6400 [====================>.........] - ETA: 6:03 - loss: 11.2778 - acc: 0.292617635\n",
      "5428/6400 [========================>.....] - ETA: 3:15 - loss: 11.3106 - acc: 0.290517631\n",
      "6194/6400 [============================>.] - ETA: 41s - loss: 11.2709 - acc: 0.293055783\n",
      "6400/6400 [==============================] - 1287s 201ms/step - loss: 11.2867 - acc: 0.2920\n",
      "Epoch 3/5\n",
      " 103/6400 [..............................] - ETA: 20:58 - loss: 11.4538 - acc: 0.281698569\n",
      " 201/6400 [..............................] - ETA: 20:41 - loss: 11.1835 - acc: 0.2985133297\n",
      "1240/6400 [====>.........................] - ETA: 17:16 - loss: 11.1982 - acc: 0.297699134\n",
      "1537/6400 [======>.......................] - ETA: 16:16 - loss: 11.1296 - acc: 0.301998567\n",
      "2261/6400 [=========>....................] - ETA: 13:51 - loss: 11.3240 - acc: 0.289717636\n",
      "2723/6400 [===========>..................] - ETA: 12:18 - loss: 11.4108 - acc: 0.284217634\n",
      "3389/6400 [==============>...............] - ETA: 10:04 - loss: 11.4170 - acc: 0.283917637\n",
      "3902/6400 [=================>............] - ETA: 8:22 - loss: 11.4195 - acc: 0.2837108925\n",
      "4034/6400 [=================>............] - ETA: 7:55 - loss: 11.4292 - acc: 0.283117631\n",
      "4076/6400 [==================>...........] - ETA: 7:47 - loss: 11.4288 - acc: 0.283117635\n",
      "4438/6400 [===================>..........] - ETA: 6:34 - loss: 11.4054 - acc: 0.284654578\n",
      "5877/6400 [==========================>...] - ETA: 1:45 - loss: 11.3227 - acc: 0.289855783\n",
      "5912/6400 [==========================>...] - ETA: 1:38 - loss: 11.3177 - acc: 0.290198565\n",
      "5974/6400 [===========================>..] - ETA: 1:25 - loss: 11.3070 - acc: 0.290854576\n",
      "6400/6400 [==============================] - 1288s 201ms/step - loss: 11.2867 - acc: 0.2920\n",
      "Epoch 4/5\n",
      " 150/6400 [..............................] - ETA: 20:58 - loss: 10.4157 - acc: 0.346798567\n",
      " 770/6400 [==>...........................] - ETA: 18:56 - loss: 10.9112 - acc: 0.315698569\n",
      "1036/6400 [===>..........................] - ETA: 18:02 - loss: 11.0027 - acc: 0.309854578\n",
      "1945/6400 [========>.....................] - ETA: 14:59 - loss: 11.2785 - acc: 0.292517634\n",
      "2288/6400 [=========>....................] - ETA: 13:50 - loss: 11.3227 - acc: 0.289817637\n",
      "2391/6400 [==========>...................] - ETA: 13:29 - loss: 11.3084 - acc: 0.290754576\n",
      "3433/6400 [===============>..............] - ETA: 9:59 - loss: 11.3960 - acc: 0.285217636\n",
      "3526/6400 [===============>..............] - ETA: 9:40 - loss: 11.3939 - acc: 0.285355783\n",
      "3909/6400 [=================>............] - ETA: 8:22 - loss: 11.3746 - acc: 0.286599134\n",
      "3920/6400 [=================>............] - ETA: 8:20 - loss: 11.3834 - acc: 0.286017631\n",
      "4279/6400 [===================>..........] - ETA: 7:08 - loss: 11.3486 - acc: 0.288217635\n",
      "4478/6400 [===================>..........] - ETA: 6:27 - loss: 11.3355 - acc: 0.289098565\n",
      "5433/6400 [========================>.....] - ETA: 3:15 - loss: 11.2914 - acc: 0.2917108925\n",
      "5685/6400 [=========================>....] - ETA: 2:24 - loss: 11.3041 - acc: 0.2909133297\n",
      "6400/6400 [==============================] - 1291s 202ms/step - loss: 11.2992 - acc: 0.2913\n",
      "Epoch 5/5\n",
      " 146/6400 [..............................] - ETA: 21:05 - loss: 12.0114 - acc: 0.2466133297\n",
      "1244/6400 [====>.........................] - ETA: 17:21 - loss: 11.5595 - acc: 0.2749108925\n",
      "1532/6400 [======>.......................] - ETA: 16:22 - loss: 11.7070 - acc: 0.265798569\n",
      "1938/6400 [========>.....................] - ETA: 15:00 - loss: 11.6730 - acc: 0.267854576\n",
      "3029/6400 [=============>................] - ETA: 11:20 - loss: 11.6160 - acc: 0.271417637\n",
      "3335/6400 [==============>...............] - ETA: 10:18 - loss: 11.7070 - acc: 0.265754578\n",
      "3618/6400 [===============>..............] - ETA: 9:21 - loss: 11.6065 - acc: 0.272017631\n",
      "3845/6400 [=================>............] - ETA: 8:35 - loss: 11.5639 - acc: 0.274655783\n",
      "4280/6400 [===================>..........] - ETA: 7:07 - loss: 11.4875 - acc: 0.279498565\n",
      "4686/6400 [====================>.........] - ETA: 5:45 - loss: 11.4210 - acc: 0.283617635\n",
      "5296/6400 [=======================>......] - ETA: 3:42 - loss: 11.3246 - acc: 0.289799134\n",
      "5910/6400 [==========================>...] - ETA: 1:38 - loss: 11.3215 - acc: 0.289817636\n",
      "6259/6400 [============================>.] - ETA: 28s - loss: 11.3143 - acc: 0.290398567\n",
      "6319/6400 [============================>.] - ETA: 16s - loss: 11.3078 - acc: 0.290717634\n",
      "6400/6400 [==============================] - 1291s 202ms/step - loss: 11.2942 - acc: 0.2916\n"
     ]
    },
    {
     "data": {
      "text/plain": [
       "[11.299165204912438, 0.29125000000000001]"
      ]
     },
     "execution_count": 26,
     "metadata": {},
     "output_type": "execute_result"
    }
   ],
   "source": [
    "loader = utils.FfmpegLoader(sampling_rate=2000)\n",
    "SampleLoader = utils.build_sample_loader(AUDIO_DIR, listens_label, loader)\n",
    "print('Dimensionality: {}'.format(loader.shape))\n",
    "\n",
    "keras.backend.clear_session()\n",
    "\n",
    "model = keras.models.Sequential()\n",
    "model.add(Dense(units=1000, input_shape=loader.shape))\n",
    "model.add(Activation(\"relu\"))\n",
    "model.add(Dense(units=100))\n",
    "model.add(Activation(\"relu\"))\n",
    "model.add(Dense(units=listens_label.shape[1]))\n",
    "model.add(Activation(\"softmax\"))\n",
    "\n",
    "# optimizer = keras.optimizers.SGD(lr=0.1, momentum=0.9, nesterov=True)\n",
    "model.compile(optimizer='nadam', loss='binary_crossentropy', metrics=['accuracy'])\n",
    "model.summary()\n",
    "\n",
    "with tf.device('/gpu:0'):\n",
    "    model.fit_generator(SampleLoader(train, batch_size=1), train.size, epochs=5)\n",
    "    loss = model.evaluate_generator(SampleLoader(val, batch_size=1), val.size)\n",
    "    loss = model.evaluate_generator(SampleLoader(test, batch_size=1), test.size)\n",
    "    Y = model.predict_generator(SampleLoader(test, batch_size=1), test.size);\n",
    "\n",
    "loss"
   ]
  },
  {
   "cell_type": "code",
   "execution_count": null,
   "metadata": {
    "collapsed": true
   },
   "outputs": [],
   "source": [
    "a = SampleLoader(train, batch_size=32)\n",
    "print(a, type(a))"
   ]
  },
  {
   "cell_type": "code",
   "execution_count": 28,
   "metadata": {
    "scrolled": false
   },
   "outputs": [
    {
     "name": "stdout",
     "output_type": "stream",
     "text": [
      "(None, 479625, 1)\n",
      "(None, 936, 128)\n",
      "(None, 929, 32)\n",
      "(None, 225, 32)\n",
      "(None, 56, 32)\n",
      "(None, 1792)\n",
      "(None, 100)\n",
      "(None, 1)\n",
      "Epoch 1/5\n",
      " 273/6400 [>.............................] - ETA: 15:17 - loss: 11.2706 - acc: 0.293054576\n",
      "2483/6400 [==========>...................] - ETA: 9:46 - loss: 11.4480 - acc: 0.281998567\n",
      "2946/6400 [============>.................] - ETA: 8:37 - loss: 11.4508 - acc: 0.281799134\n",
      "3748/6400 [================>.............] - ETA: 6:37 - loss: 11.3443 - acc: 0.288417634\n",
      "3970/6400 [=================>............] - ETA: 6:03 - loss: 11.3404 - acc: 0.288754578\n",
      "4056/6400 [==================>...........] - ETA: 5:51 - loss: 11.3397 - acc: 0.288755783\n",
      "4089/6400 [==================>...........] - ETA: 5:46 - loss: 11.3145 - acc: 0.290398565\n",
      "4607/6400 [====================>.........] - ETA: 4:28 - loss: 11.3157 - acc: 0.290217631\n",
      "5305/6400 [=======================>......] - ETA: 2:43 - loss: 11.2363 - acc: 0.2952108925\n",
      "5768/6400 [==========================>...] - ETA: 1:34 - loss: 11.2658 - acc: 0.293317636\n",
      "5796/6400 [==========================>...] - ETA: 1:30 - loss: 11.2609 - acc: 0.293798569\n",
      "5895/6400 [==========================>...] - ETA: 1:15 - loss: 11.2530 - acc: 0.2941133297\n",
      "6348/6400 [============================>.] - ETA: 7s - loss: 11.2812 - acc: 0.292417635\n",
      "6351/6400 [============================>.] - ETA: 7s - loss: 11.2834 - acc: 0.292217637\n",
      "6400/6400 [==============================] - 958s 150ms/step - loss: 11.2917 - acc: 0.2917\n",
      "Epoch 2/5\n",
      " 900/6400 [===>..........................] - ETA: 13:42 - loss: 11.4077 - acc: 0.284454576\n",
      "2454/6400 [==========>...................] - ETA: 9:50 - loss: 11.3104 - acc: 0.2905133297\n",
      "3367/6400 [==============>...............] - ETA: 7:33 - loss: 11.3874 - acc: 0.285755783\n",
      "3626/6400 [===============>..............] - ETA: 6:55 - loss: 11.3698 - acc: 0.286817631\n",
      "3688/6400 [================>.............] - ETA: 6:45 - loss: 11.3862 - acc: 0.285898565\n",
      "3881/6400 [=================>............] - ETA: 6:16 - loss: 11.3663 - acc: 0.287017636\n",
      "4394/6400 [===================>..........] - ETA: 5:00 - loss: 11.2765 - acc: 0.292798567\n",
      "4614/6400 [====================>.........] - ETA: 4:27 - loss: 11.2744 - acc: 0.292898569\n",
      "4725/6400 [=====================>........] - ETA: 4:10 - loss: 11.3132 - acc: 0.290417637\n",
      "4770/6400 [=====================>........] - ETA: 4:03 - loss: 11.3101 - acc: 0.290617635\n",
      "4950/6400 [======================>.......] - ETA: 3:36 - loss: 11.3143 - acc: 0.290354578\n",
      "5080/6400 [======================>.......] - ETA: 3:17 - loss: 11.3386 - acc: 0.2888108925\n",
      "5173/6400 [=======================>......] - ETA: 3:03 - loss: 11.3319 - acc: 0.289299134\n",
      "5716/6400 [=========================>....] - ETA: 1:42 - loss: 11.3097 - acc: 0.290617634\n",
      "6400/6400 [==============================] - 958s 150ms/step - loss: 11.2892 - acc: 0.2919\n",
      "Epoch 3/5\n",
      " 250/6400 [>.............................] - ETA: 15:23 - loss: 11.4147 - acc: 0.284055783\n",
      " 441/6400 [=>............................] - ETA: 14:53 - loss: 11.5682 - acc: 0.274498567\n",
      " 699/6400 [==>...........................] - ETA: 14:13 - loss: 11.3581 - acc: 0.2876108925\n",
      "1682/6400 [======>.......................] - ETA: 11:45 - loss: 11.1748 - acc: 0.299017635\n",
      "2384/6400 [==========>...................] - ETA: 10:00 - loss: 11.3750 - acc: 0.286517631\n",
      "2654/6400 [===========>..................] - ETA: 9:20 - loss: 11.3471 - acc: 0.288217634\n",
      "2668/6400 [===========>..................] - ETA: 9:18 - loss: 11.3592 - acc: 0.2875133297\n",
      "4015/6400 [=================>............] - ETA: 5:56 - loss: 11.3125 - acc: 0.290417636\n",
      "4155/6400 [==================>...........] - ETA: 5:35 - loss: 11.2844 - acc: 0.292299134\n",
      "4306/6400 [===================>..........] - ETA: 5:13 - loss: 11.2996 - acc: 0.291298565\n",
      "5062/6400 [======================>.......] - ETA: 3:20 - loss: 11.2938 - acc: 0.291654576\n",
      "5335/6400 [========================>.....] - ETA: 2:39 - loss: 11.2986 - acc: 0.291398569\n",
      "5544/6400 [========================>.....] - ETA: 2:08 - loss: 11.3184 - acc: 0.290017637\n",
      "5785/6400 [==========================>...] - ETA: 1:32 - loss: 11.3264 - acc: 0.289554578\n",
      "6400/6400 [==============================] - 958s 150ms/step - loss: 11.2917 - acc: 0.2917\n",
      "Epoch 4/5\n",
      " 194/6400 [..............................] - ETA: 15:26 - loss: 11.4226 - acc: 0.283517636\n",
      " 391/6400 [>.............................] - ETA: 14:56 - loss: 11.2942 - acc: 0.2916108925\n",
      "1172/6400 [====>.........................] - ETA: 13:01 - loss: 11.2358 - acc: 0.295299134\n",
      "1441/6400 [=====>........................] - ETA: 12:21 - loss: 11.3400 - acc: 0.288717637\n",
      "1535/6400 [======>.......................] - ETA: 12:06 - loss: 11.3934 - acc: 0.285398569\n",
      "1734/6400 [=======>......................] - ETA: 11:37 - loss: 11.3914 - acc: 0.285517631\n",
      "1799/6400 [=======>......................] - ETA: 11:27 - loss: 11.3697 - acc: 0.286898565\n",
      "2488/6400 [==========>...................] - ETA: 9:44 - loss: 11.4954 - acc: 0.2789133297\n",
      "2755/6400 [===========>..................] - ETA: 9:04 - loss: 11.4693 - acc: 0.280698567\n",
      "4217/6400 [==================>...........] - ETA: 5:25 - loss: 11.3453 - acc: 0.288417634\n",
      "4843/6400 [=====================>........] - ETA: 3:52 - loss: 11.2943 - acc: 0.291655783\n",
      "5313/6400 [=======================>......] - ETA: 2:42 - loss: 11.2464 - acc: 0.294654576\n",
      "5378/6400 [========================>.....] - ETA: 2:32 - loss: 11.2498 - acc: 0.294317635\n",
      "5411/6400 [========================>.....] - ETA: 2:27 - loss: 11.2489 - acc: 0.294454578\n",
      "6400/6400 [==============================] - 955s 149ms/step - loss: 11.2917 - acc: 0.2917\n",
      "Epoch 5/5\n",
      " 904/6400 [===>..........................] - ETA: 13:40 - loss: 11.4630 - acc: 0.281055783\n",
      "1459/6400 [=====>........................] - ETA: 12:18 - loss: 11.2657 - acc: 0.293454578\n",
      "1609/6400 [======>.......................] - ETA: 11:55 - loss: 11.2855 - acc: 0.292154576\n",
      "2038/6400 [========>.....................] - ETA: 10:51 - loss: 11.3349 - acc: 0.289017636\n",
      "2252/6400 [=========>....................] - ETA: 10:19 - loss: 11.3267 - acc: 0.289517634\n",
      "2733/6400 [===========>..................] - ETA: 9:07 - loss: 11.2524 - acc: 0.2942133297\n",
      "3415/6400 [===============>..............] - ETA: 7:25 - loss: 11.2787 - acc: 0.292517637\n",
      "3573/6400 [===============>..............] - ETA: 7:01 - loss: 11.2842 - acc: 0.292298567\n",
      "3657/6400 [================>.............] - ETA: 6:49 - loss: 11.2822 - acc: 0.292317635\n",
      "4887/6400 [=====================>........] - ETA: 3:45 - loss: 11.3655 - acc: 0.287198565\n",
      "5002/6400 [======================>.......] - ETA: 3:28 - loss: 11.3719 - acc: 0.2867108925\n",
      "5204/6400 [=======================>......] - ETA: 2:58 - loss: 11.3441 - acc: 0.288417631\n",
      "5724/6400 [=========================>....] - ETA: 1:40 - loss: 11.3051 - acc: 0.290999134\n",
      "5766/6400 [==========================>...] - ETA: 1:34 - loss: 11.2891 - acc: 0.291998569\n",
      "6400/6400 [==============================] - 954s 149ms/step - loss: 11.2867 - acc: 0.2920\n"
     ]
    },
    {
     "data": {
      "text/plain": [
       "[11.299165204912438, 0.29125000000000001]"
      ]
     },
     "execution_count": 28,
     "metadata": {},
     "output_type": "execute_result"
    }
   ],
   "source": [
    "loader = utils.FfmpegLoader(sampling_rate=16000)\n",
    "#loader = utils.LibrosaLoader(sampling_rate=16000)\n",
    "SampleLoader = utils.build_sample_loader(AUDIO_DIR, listens_label, loader)\n",
    "\n",
    "keras.backend.clear_session()\n",
    "\n",
    "model = keras.models.Sequential()\n",
    "model.add(Reshape((-1, 1), input_shape=loader.shape))\n",
    "print(model.output_shape)\n",
    "\n",
    "model.add(Conv1D(128, 512, strides=512))\n",
    "print(model.output_shape)\n",
    "model.add(Activation(\"relu\"))\n",
    "\n",
    "model.add(Conv1D(32, 8))\n",
    "print(model.output_shape)\n",
    "model.add(Activation(\"relu\"))\n",
    "model.add(MaxPooling1D(4))\n",
    "\n",
    "model.add(Conv1D(32, 8))\n",
    "print(model.output_shape)\n",
    "model.add(Activation(\"relu\"))\n",
    "model.add(MaxPooling1D(4))\n",
    "\n",
    "print(model.output_shape)\n",
    "# model.add(Dropout(0.4))\n",
    "model.add(Flatten())\n",
    "print(model.output_shape)\n",
    "model.add(Dense(100))\n",
    "model.add(Activation(\"relu\"))\n",
    "print(model.output_shape)\n",
    "model.add(Dense(listens_label.shape[1]))\n",
    "model.add(Activation(\"softmax\"))\n",
    "print(model.output_shape)\n",
    "\n",
    "optimizer = keras.optimizers.SGD(lr=0.01, momentum=0.9, nesterov=True)\n",
    "#optimizer = keras.optimizers.Adam()#lr=1e-5)#, momentum=0.9, nesterov=True)\n",
    "model.compile(optimizer, loss='binary_crossentropy', metrics=['accuracy'])\n",
    "\n",
    "with tf.device('/gpu:0'):\n",
    "    model.fit_generator(SampleLoader(train, batch_size=1), train.size, epochs=5)\n",
    "    loss = model.evaluate_generator(SampleLoader(val, batch_size=1), val.size)\n",
    "    loss = model.evaluate_generator(SampleLoader(test, batch_size=1), test.size)\n",
    "\n",
    "loss"
   ]
  },
  {
   "cell_type": "code",
   "execution_count": null,
   "metadata": {
    "collapsed": true
   },
   "outputs": [],
   "source": []
  }
 ],
 "metadata": {
  "anaconda-cloud": {},
  "kernelspec": {
   "display_name": "Python [conda root]",
   "language": "python",
   "name": "conda-root-py"
  },
  "language_info": {
   "codemirror_mode": {
    "name": "ipython",
    "version": 3
   },
   "file_extension": ".py",
   "mimetype": "text/x-python",
   "name": "python",
   "nbconvert_exporter": "python",
   "pygments_lexer": "ipython3",
   "version": "3.5.2"
  }
 },
 "nbformat": 4,
 "nbformat_minor": 2
}
